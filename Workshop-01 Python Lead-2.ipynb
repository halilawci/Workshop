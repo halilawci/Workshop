{
 "cells": [
  {
   "cell_type": "markdown",
   "id": "cec2380e",
   "metadata": {
    "id": "cec2380e"
   },
   "source": [
    "### Code Challenge -1\n",
    "\n",
    "<div class=\"alert alert-block alert-info\">\n",
    "    <b>💡Objective:</b>\n",
    "    <ul>\n",
    "        <li>To improve your <b>boolean logic</b> and <b>arithmetic operator algorithm</b>&nbsp;skills.</li>\n",
    "    </ul>\n",
    "</div>\n",
    "\n",
    "- Using the all following items once each, set a correct boolean expression that returns `write me`. Use the `print()` function to display the result.\n",
    "\n",
    "```python\n",
    "0\n",
    "and\n",
    "not\n",
    "\"write me\"\n",
    "```"
   ]
  },
  {
   "cell_type": "code",
   "execution_count": null,
   "id": "f591cc23",
   "metadata": {
    "colab": {
     "base_uri": "https://localhost:8080/"
    },
    "executionInfo": {
     "elapsed": 244,
     "status": "ok",
     "timestamp": 1652202261935,
     "user": {
      "displayName": "Osman Akcay",
      "userId": "09480971224448310030"
     },
     "user_tz": -120
    },
    "id": "f591cc23",
    "outputId": "916b589c-843f-43d3-8b53-d86936bc0d44"
   },
   "outputs": [
    {
     "name": "stdout",
     "output_type": "stream",
     "text": [
      "write me\n"
     ]
    }
   ],
   "source": [
    "print(not 0 and \"\" {}, none)"
   ]
  },
  {
   "cell_type": "markdown",
   "id": "1203c30d",
   "metadata": {
    "id": "1203c30d"
   },
   "source": [
    "### Code Challenge-2\n",
    "\n",
    "Write a program that calculates body mass index from **height** and **weight** variables. \n",
    "\n",
    "Body mass index :  Weight / Height(m) * Height(m)"
   ]
  },
  {
   "cell_type": "code",
   "execution_count": null,
   "id": "f5f5886d",
   "metadata": {
    "colab": {
     "base_uri": "https://localhost:8080/"
    },
    "executionInfo": {
     "elapsed": 10218,
     "status": "ok",
     "timestamp": 1652208537807,
     "user": {
      "displayName": "Osman Akcay",
      "userId": "09480971224448310030"
     },
     "user_tz": -120
    },
    "id": "f5f5886d",
    "outputId": "2cae6b1d-8acc-4577-ecc1-bdf115a0eadf"
   },
   "outputs": [
    {
     "name": "stdout",
     "output_type": "stream",
     "text": [
      "Weight(gr): 65000\n",
      "Height(cm): 180\n",
      "20.061728395061728\n"
     ]
    }
   ],
   "source": [
    "kilo = float(input(\"Weight(gr): \"))\n",
    "boy = float(input(\"Height(cm): \"))\n",
    "\n",
    "\n",
    "kilo /= 1000\n",
    "boy /= 100\n",
    "\n",
    "\n",
    "\n",
    "\n",
    "\n",
    "bmi = kilo / (boy ** 2)\n",
    "\n",
    "\n",
    "\n",
    "print(bmi)"
   ]
  },
  {
   "cell_type": "code",
   "execution_count": null,
   "id": "4-BvGhMRMTMR",
   "metadata": {
    "colab": {
     "base_uri": "https://localhost:8080/",
     "height": 270
    },
    "executionInfo": {
     "elapsed": 4558,
     "status": "error",
     "timestamp": 1652207077188,
     "user": {
      "displayName": "Osman Akcay",
      "userId": "09480971224448310030"
     },
     "user_tz": -120
    },
    "id": "4-BvGhMRMTMR",
    "outputId": "98d2fb60-9837-424b-86ab-2ae12001e640"
   },
   "outputs": [
    {
     "name": "stdout",
     "output_type": "stream",
     "text": [
      "My name is :\n",
      "osman\n"
     ]
    },
    {
     "ename": "ValueError",
     "evalue": "ignored",
     "output_type": "error",
     "traceback": [
      "\u001b[0;31m---------------------------------------------------------------------------\u001b[0m",
      "\u001b[0;31mValueError\u001b[0m                                Traceback (most recent call last)",
      "\u001b[0;32m<ipython-input-74-29883c03eb13>\u001b[0m in \u001b[0;36m<module>\u001b[0;34m()\u001b[0m\n\u001b[0;32m----> 1\u001b[0;31m \u001b[0ma\u001b[0m \u001b[0;34m=\u001b[0m \u001b[0mint\u001b[0m\u001b[0;34m(\u001b[0m\u001b[0minput\u001b[0m\u001b[0;34m(\u001b[0m\u001b[0;34m\"My name is :\\n\"\u001b[0m\u001b[0;34m)\u001b[0m\u001b[0;34m)\u001b[0m\u001b[0;34m\u001b[0m\u001b[0;34m\u001b[0m\u001b[0m\n\u001b[0m\u001b[1;32m      2\u001b[0m \u001b[0;34m\u001b[0m\u001b[0m\n\u001b[1;32m      3\u001b[0m \u001b[0;34m\u001b[0m\u001b[0m\n\u001b[1;32m      4\u001b[0m \u001b[0;34m\u001b[0m\u001b[0m\n\u001b[1;32m      5\u001b[0m \u001b[0mprint\u001b[0m\u001b[0;34m(\u001b[0m\u001b[0;34m\"My name is :\"\u001b[0m\u001b[0;34m,\u001b[0m \u001b[0ma\u001b[0m\u001b[0;34m)\u001b[0m\u001b[0;34m\u001b[0m\u001b[0;34m\u001b[0m\u001b[0m\n",
      "\u001b[0;31mValueError\u001b[0m: invalid literal for int() with base 10: 'osman'"
     ]
    }
   ],
   "source": [
    "a = int(input(\"My name is :\\n\"))\n",
    "\n",
    "\n",
    "\n",
    "print(\"My name is :\", a)"
   ]
  },
  {
   "cell_type": "markdown",
   "id": "4b7623d7",
   "metadata": {
    "id": "4b7623d7"
   },
   "source": [
    "### Code Challenge-3\n",
    "\n",
    "With your \\$ 200,  How many pieces of material can you get for $ 11 each? How much money do you have left after buying?"
   ]
  },
  {
   "cell_type": "code",
   "execution_count": null,
   "id": "f52e722f",
   "metadata": {
    "colab": {
     "base_uri": "https://localhost:8080/"
    },
    "executionInfo": {
     "elapsed": 239,
     "status": "ok",
     "timestamp": 1652204098164,
     "user": {
      "displayName": "Osman Akcay",
      "userId": "09480971224448310030"
     },
     "user_tz": -120
    },
    "id": "f52e722f",
    "outputId": "13539e39-9728-4c9e-bfd6-2edd18a3c231"
   },
   "outputs": [
    {
     "name": "stdout",
     "output_type": "stream",
     "text": [
      "With your $200, 18 pieces of material you can get for $11 each.  The remaining money is $2\n"
     ]
    }
   ],
   "source": [
    "# wallet = 900\n",
    "# price = 11\n",
    "# piece = 200 // 11\n",
    "# wallet = wallet % price\n",
    "\n",
    "# a = \"pieces of material: ${} Balance: ${}\".format(piece, price)\n",
    "\n",
    "# print(\"pieces of material: \", \"$\", piece, \"balance: \", price )\n",
    "# print(a)\n",
    "\n",
    "totalMoney = 200\n",
    "materialPrice = 11\n",
    "piece = 200 // 11\n",
    "remainingMoney = totalMoney % piece\n",
    "print(\"With your ${}, {} pieces of material you can get for ${} each.  The remaining money is ${}\".format(totalMoney, piece, materialPrice, remainingMoney))"
   ]
  },
  {
   "cell_type": "markdown",
   "id": "9f8abf9e",
   "metadata": {
    "id": "9f8abf9e"
   },
   "source": [
    "### Code Challenge-4\n",
    "\n",
    ">Do not run the code, try to figure out in your mind.\n",
    "\n",
    "What will be the output of the following syntax :\n",
    "\n",
    "```python\n",
    "print(True and False and (not True and False) and not (True or False))"
   ]
  },
  {
   "cell_type": "code",
   "execution_count": null,
   "id": "1dd3d4a7",
   "metadata": {
    "colab": {
     "base_uri": "https://localhost:8080/"
    },
    "executionInfo": {
     "elapsed": 229,
     "status": "ok",
     "timestamp": 1652204262066,
     "user": {
      "displayName": "Osman Akcay",
      "userId": "09480971224448310030"
     },
     "user_tz": -120
    },
    "id": "1dd3d4a7",
    "outputId": "5b07e28f-cfaa-4562-d04c-9081f1b2fcbb"
   },
   "outputs": [
    {
     "name": "stdout",
     "output_type": "stream",
     "text": [
      "False\n"
     ]
    }
   ],
   "source": [
    "print(True and False and (not True and False) and not (True or False))"
   ]
  },
  {
   "cell_type": "markdown",
   "id": "657af681",
   "metadata": {
    "id": "657af681"
   },
   "source": [
    "### Code Challenge-5\n",
    "\n",
    ">Do not run the code, try to figure out in your mind.\n",
    "\n",
    "What will be the output of the following syntax :\n",
    "\n",
    "```python\n",
    "print(True and False and not \"False\" and None and (\"None\" or None))\n",
    "```"
   ]
  },
  {
   "cell_type": "code",
   "execution_count": null,
   "id": "27c1949f",
   "metadata": {
    "colab": {
     "base_uri": "https://localhost:8080/"
    },
    "executionInfo": {
     "elapsed": 234,
     "status": "ok",
     "timestamp": 1652205387304,
     "user": {
      "displayName": "Osman Akcay",
      "userId": "09480971224448310030"
     },
     "user_tz": -120
    },
    "id": "27c1949f",
    "outputId": "148b6189-43c6-487c-ded2-0d9ad342e56d"
   },
   "outputs": [
    {
     "name": "stdout",
     "output_type": "stream",
     "text": [
      "0\n"
     ]
    }
   ],
   "source": [
    "print(True and 0)"
   ]
  },
  {
   "cell_type": "markdown",
   "id": "190ff125",
   "metadata": {
    "id": "190ff125"
   },
   "source": [
    "### Code Challenge-6\n",
    "\n",
    ">Do not run the code, try to figure out in your mind.\n",
    "\n",
    "What will be the output of the following syntax :\n",
    "\n",
    "```python\n",
    "print(\"clarusway\" and 0 and not \"\" and False and (\" \" or None))\n",
    "```"
   ]
  },
  {
   "cell_type": "code",
   "execution_count": null,
   "id": "3509f987",
   "metadata": {
    "colab": {
     "base_uri": "https://localhost:8080/"
    },
    "executionInfo": {
     "elapsed": 221,
     "status": "ok",
     "timestamp": 1652205579307,
     "user": {
      "displayName": "Osman Akcay",
      "userId": "09480971224448310030"
     },
     "user_tz": -120
    },
    "id": "3509f987",
    "outputId": "919da423-dc69-4162-bbd3-b311452b1a9f"
   },
   "outputs": [
    {
     "name": "stdout",
     "output_type": "stream",
     "text": [
      "0\n"
     ]
    }
   ],
   "source": [
    "print(\"clarusway\" and 0 and not \"\" and False and (\" \" or None))"
   ]
  },
  {
   "cell_type": "markdown",
   "id": "68790182",
   "metadata": {
    "id": "68790182"
   },
   "source": [
    "### Code Challenge-7\n",
    "Ask the user for two numbers and assign these numbers to variables and replace the values of these variables with each other."
   ]
  },
  {
   "cell_type": "code",
   "execution_count": null,
   "id": "e9f64811",
   "metadata": {
    "colab": {
     "base_uri": "https://localhost:8080/"
    },
    "executionInfo": {
     "elapsed": 238,
     "status": "ok",
     "timestamp": 1652206609995,
     "user": {
      "displayName": "Osman Akcay",
      "userId": "09480971224448310030"
     },
     "user_tz": -120
    },
    "id": "e9f64811",
    "outputId": "937bd78d-8347-43e6-c0ac-063cfad68087"
   },
   "outputs": [
    {
     "name": "stdout",
     "output_type": "stream",
     "text": [
      "Variables Before Replacing\n",
      "a= 2 b= 5\n",
      "Variables After Replacing\n",
      "a= 5 b= 2\n"
     ]
    }
   ],
   "source": [
    "# number_1 = input(\"Write number 1: \")\n",
    "# number_2 = input(\"Write number 2: \")\n",
    "\n",
    "# a = number_1\n",
    "# number_1 = number_2\n",
    "# number_2 = a\n",
    "\n",
    "\n",
    "\n",
    "# print(\"\\nPrint satiri:\\nNumber 1: {} \\nNumber 2: {}\".format(number_1, number_2))\n",
    "a = 2\n",
    "b = 5\n",
    "\n",
    "print(\"Variables Before Replacing\\na= {} b= {}\".format(a, b))\n",
    "\n",
    "a, b = b, a\n",
    "\n",
    "print(\"Variables After Replacing\\na= {} b= {}\".format(a, b))"
   ]
  }
 ],
 "metadata": {
  "colab": {
   "collapsed_sections": [],
   "name": "ITF_PYTHON_WS_1_STUDENT-1.ipynb",
   "provenance": [],
   "toc_visible": true
  },
  "interpreter": {
   "hash": "468f25ad0239460415b7e6b7483d5c8f7213894121f6fb96c4cb6ef93fffe534"
  },
  "kernelspec": {
   "display_name": "Python 3 (ipykernel)",
   "language": "python",
   "name": "python3"
  },
  "language_info": {
   "codemirror_mode": {
    "name": "ipython",
    "version": 3
   },
   "file_extension": ".py",
   "mimetype": "text/x-python",
   "name": "python",
   "nbconvert_exporter": "python",
   "pygments_lexer": "ipython3",
   "version": "3.9.7"
  }
 },
 "nbformat": 4,
 "nbformat_minor": 5
}
